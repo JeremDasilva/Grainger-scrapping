{
 "cells": [
  {
   "cell_type": "code",
   "execution_count": 1,
   "metadata": {},
   "outputs": [],
   "source": [
    "#Importing libraries\n",
    "\n",
    "import json\n",
    "import os\n",
    "import re\n",
    "\n",
    "import pandas as pd\n",
    "\n",
    "import matplotlib.pyplot as plt"
   ]
  },
  {
   "cell_type": "markdown",
   "metadata": {},
   "source": [
    "# We bring the json back here from the data base and show what we want"
   ]
  },
  {
   "cell_type": "code",
   "execution_count": 2,
   "metadata": {},
   "outputs": [],
   "source": [
    "# Function to find all the branches of the json\n",
    "def find_branches(dictionary, depth, max_depth, parent_key=None):\n",
    "    branches = []\n",
    "    for key, value in dictionary.items():\n",
    "        current_key = key if parent_key is None else f\"{parent_key}\\\\{key}\"  # Change '.' to '\\\\'\n",
    "        if isinstance(value, dict) and depth < max_depth:\n",
    "            branches.extend(find_branches(value, depth + 1, max_depth, current_key))\n",
    "        else:\n",
    "            branches.append(current_key)\n",
    "    return branches\n",
    "\n",
    "\n",
    "# Function to find the deepness of a dictionnary\n",
    "def find_nested_depth(dictionary, current_depth=0):\n",
    "    max_depth = current_depth\n",
    "    for value in dictionary.values():\n",
    "        if isinstance(value, dict):\n",
    "            depth = find_nested_depth(value, current_depth + 1)\n",
    "            max_depth = max(max_depth, depth)\n",
    "    return max_depth"
   ]
  },
  {
   "cell_type": "markdown",
   "metadata": {},
   "source": [
    "# json to table"
   ]
  },
  {
   "cell_type": "code",
   "execution_count": 29,
   "metadata": {},
   "outputs": [],
   "source": [
    "#In this part we are extracting all the dataset from all the extractions we have done. These datasets are saved with there file names and request in order to combine them later\n",
    "path_to_json = \"scrapings/\"\n",
    "files_name = os.listdir(path_to_json)\n",
    "\n",
    "dataframes = {}\n",
    "requests_saved = []\n",
    "\n",
    "for file in files_name:\n",
    "    full_path = os.path.join(path_to_json, file)\n",
    "    if os.path.isfile(full_path):\n",
    "        with open(full_path, 'r') as myfile:\n",
    "            datas = json.load(myfile)\n",
    "\n",
    "            for data in datas:\n",
    "\n",
    "                max_depth = find_nested_depth(data)\n",
    "                all_branches = find_branches(data, 1, max_depth)\n",
    "                for branches in all_branches:\n",
    "                    req = \"data\"\n",
    "                    title = str()\n",
    "                    requests = str()\n",
    "                    for branch in branches.split('\\\\'):\n",
    "                        req += f\"['{branch}']\"\n",
    "                        title += branch + ' '\n",
    "                        requests += f\"['{branch}']\"\n",
    "                    result = eval(req)\n",
    "                    requests_saved.append(requests)\n",
    "                    variable_name = f\"df_{file}_{req}\"\n",
    "                    \n",
    "                    dataframes[variable_name] = pd.DataFrame(result)\n",
    "                    \n",
    "requests_saved_cleaned = list(set(requests_saved))"
   ]
  },
  {
   "cell_type": "code",
   "execution_count": 30,
   "metadata": {},
   "outputs": [],
   "source": [
    "def chain_to_list(chaine):\n",
    "    return re.findall(r\"\\['(.*?)'\\]\", chaine)\n",
    "requests_saved_cleaned_list = [chain_to_list(request) for request in requests_saved_cleaned]"
   ]
  },
  {
   "cell_type": "code",
   "execution_count": 31,
   "metadata": {},
   "outputs": [
    {
     "data": {
      "text/plain": [
       "['U-Bend Light Bulbs & Lamps',\n",
       " 'LED Ballast-Bypass (UL Type B) U-Bend Lamps',\n",
       " 'T8 1-5/8 in U-Bend Leg Spacing']"
      ]
     },
     "execution_count": 31,
     "metadata": {},
     "output_type": "execute_result"
    }
   ],
   "source": [
    "a = requests_saved_cleaned_list[0][0]\n",
    "b = requests_saved_cleaned_list[0][1]\n",
    "c = requests_saved_cleaned_list[0][2]\n",
    "my_final_request = []\n",
    "my_final_request.append(a)\n",
    "my_final_request.append(b)\n",
    "my_final_request.append(c)\n",
    "my_final_request"
   ]
  },
  {
   "cell_type": "code",
   "execution_count": 35,
   "metadata": {},
   "outputs": [
    {
     "name": "stdout",
     "output_type": "stream",
     "text": [
      "['U-Bend Light Bulbs & Lamps']['LED Ballast-Bypass (UL Type B) U-Bend Lamps']['T8 1-5/8 in U-Bend Leg Spacing']\n"
     ]
    }
   ],
   "source": [
    "def list_to_chain(liste):\n",
    "    elements = [f\"['{element}']\" for element in liste]\n",
    "    chain = ''.join(elements)\n",
    "    return chain\n",
    "\n",
    "my_final_request_chain = list_to_chain(my_final_request)\n",
    "\n",
    "print(my_final_request_chain)\n"
   ]
  },
  {
   "cell_type": "markdown",
   "metadata": {},
   "source": [
    "ma note : je lis tous les fichiers pour en sortir toute les requete. Premier dropdown is requests_saved_cleaned[i][0]. Je filtre ensuite avec ce premier categorie qui me donne la suite et ainsi de suite. Ceci va permettre de construire la requette pour la suite. On cherchera dans chaque json cette requette, extraction puis concat puis graphique"
   ]
  },
  {
   "cell_type": "code",
   "execution_count": 37,
   "metadata": {},
   "outputs": [
    {
     "name": "stdout",
     "output_type": "stream",
     "text": [
      "Clés correspondantes au modèle regex :\n",
      "df_2024-04-26_mon_fichier.json_data['U-Bend Light Bulbs & Lamps']['LED Ballast-Bypass (UL Type B) U-Bend Lamps']['T8 1-5/8 in U-Bend Leg Spacing']\n",
      "df_2024-04-27_mon_fichier.json_data['U-Bend Light Bulbs & Lamps']['LED Ballast-Bypass (UL Type B) U-Bend Lamps']['T8 1-5/8 in U-Bend Leg Spacing']\n"
     ]
    },
    {
     "data": {
      "text/html": [
       "<div>\n",
       "<style scoped>\n",
       "    .dataframe tbody tr th:only-of-type {\n",
       "        vertical-align: middle;\n",
       "    }\n",
       "\n",
       "    .dataframe tbody tr th {\n",
       "        vertical-align: top;\n",
       "    }\n",
       "\n",
       "    .dataframe thead th {\n",
       "        text-align: right;\n",
       "    }\n",
       "</style>\n",
       "<table border=\"1\" class=\"dataframe\">\n",
       "  <thead>\n",
       "    <tr style=\"text-align: right;\">\n",
       "      <th></th>\n",
       "      <th>Wattage</th>\n",
       "      <th>Date</th>\n",
       "      <th>Incandescent Wattage Equivalency</th>\n",
       "      <th>Color Temperature</th>\n",
       "      <th>Light Output</th>\n",
       "      <th>Shatter-Resistant</th>\n",
       "      <th>Bulb Designation</th>\n",
       "      <th>Brand</th>\n",
       "      <th>Price</th>\n",
       "      <th>Ref</th>\n",
       "    </tr>\n",
       "  </thead>\n",
       "  <tbody>\n",
       "    <tr>\n",
       "      <th>0</th>\n",
       "      <td>13 W</td>\n",
       "      <td>2024-04-26</td>\n",
       "      <td>28 W; 32 W</td>\n",
       "      <td>3500K</td>\n",
       "      <td>1,800 lm</td>\n",
       "      <td>No</td>\n",
       "      <td>LED13BDT8/U/835</td>\n",
       "      <td>CURRENT</td>\n",
       "      <td>$31.54</td>\n",
       "      <td>0</td>\n",
       "    </tr>\n",
       "    <tr>\n",
       "      <th>3</th>\n",
       "      <td>13 W</td>\n",
       "      <td>2024-04-27</td>\n",
       "      <td>28 W; 32 W</td>\n",
       "      <td>3500K</td>\n",
       "      <td>1,800 lm</td>\n",
       "      <td>No</td>\n",
       "      <td>LED13BDT8/U/835</td>\n",
       "      <td>CURRENT</td>\n",
       "      <td>$31.54</td>\n",
       "      <td>0</td>\n",
       "    </tr>\n",
       "    <tr>\n",
       "      <th>1</th>\n",
       "      <td>13 W</td>\n",
       "      <td>2024-04-26</td>\n",
       "      <td>28 W; 32 W</td>\n",
       "      <td>4000K</td>\n",
       "      <td>1,850 lm</td>\n",
       "      <td>No</td>\n",
       "      <td>LED13BDT8/U/840</td>\n",
       "      <td>CURRENT</td>\n",
       "      <td>$31.54</td>\n",
       "      <td>1</td>\n",
       "    </tr>\n",
       "    <tr>\n",
       "      <th>4</th>\n",
       "      <td>13 W</td>\n",
       "      <td>2024-04-27</td>\n",
       "      <td>28 W; 32 W</td>\n",
       "      <td>4000K</td>\n",
       "      <td>1,850 lm</td>\n",
       "      <td>No</td>\n",
       "      <td>LED13BDT8/U/840</td>\n",
       "      <td>CURRENT</td>\n",
       "      <td>$31.54</td>\n",
       "      <td>1</td>\n",
       "    </tr>\n",
       "    <tr>\n",
       "      <th>2</th>\n",
       "      <td>13 W</td>\n",
       "      <td>2024-04-26</td>\n",
       "      <td>28 W; 32 W</td>\n",
       "      <td>5000K</td>\n",
       "      <td>1,850 lm</td>\n",
       "      <td>No</td>\n",
       "      <td>LED13BDT8/U/850</td>\n",
       "      <td>CURRENT</td>\n",
       "      <td>$32.90</td>\n",
       "      <td>2</td>\n",
       "    </tr>\n",
       "    <tr>\n",
       "      <th>5</th>\n",
       "      <td>13 W</td>\n",
       "      <td>2024-04-27</td>\n",
       "      <td>28 W; 32 W</td>\n",
       "      <td>5000K</td>\n",
       "      <td>1,850 lm</td>\n",
       "      <td>No</td>\n",
       "      <td>LED13BDT8/U/850</td>\n",
       "      <td>CURRENT</td>\n",
       "      <td>$32.90</td>\n",
       "      <td>2</td>\n",
       "    </tr>\n",
       "  </tbody>\n",
       "</table>\n",
       "</div>"
      ],
      "text/plain": [
       "  Wattage        Date Incandescent Wattage Equivalency Color Temperature  \\\n",
       "0    13 W  2024-04-26                       28 W; 32 W             3500K   \n",
       "3    13 W  2024-04-27                       28 W; 32 W             3500K   \n",
       "1    13 W  2024-04-26                       28 W; 32 W             4000K   \n",
       "4    13 W  2024-04-27                       28 W; 32 W             4000K   \n",
       "2    13 W  2024-04-26                       28 W; 32 W             5000K   \n",
       "5    13 W  2024-04-27                       28 W; 32 W             5000K   \n",
       "\n",
       "  Light Output Shatter-Resistant Bulb Designation    Brand   Price  Ref  \n",
       "0     1,800 lm                No  LED13BDT8/U/835  CURRENT  $31.54    0  \n",
       "3     1,800 lm                No  LED13BDT8/U/835  CURRENT  $31.54    0  \n",
       "1     1,850 lm                No  LED13BDT8/U/840  CURRENT  $31.54    1  \n",
       "4     1,850 lm                No  LED13BDT8/U/840  CURRENT  $31.54    1  \n",
       "2     1,850 lm                No  LED13BDT8/U/850  CURRENT  $32.90    2  \n",
       "5     1,850 lm                No  LED13BDT8/U/850  CURRENT  $32.90    2  "
      ]
     },
     "metadata": {},
     "output_type": "display_data"
    },
    {
     "data": {
      "image/png": "[encoded data removed]",
      "text/plain": [
       "<Figure size 1500x1500 with 4 Axes>"
      ]
     },
     "metadata": {},
     "output_type": "display_data"
    }
   ],
   "source": [
    "modele_regex = r\"df_\\d{4}-\\d{2}-\\d{2}_mon_fichier\\.json_data\" + re.escape(my_final_request_chain)\n",
    "\n",
    "cles_trouvees = []\n",
    "\n",
    "for cle in dataframes.keys():\n",
    "    \n",
    "    if re.match(modele_regex, cle):\n",
    "        cles_trouvees.append(cle)\n",
    "\n",
    "print(\"Clés correspondantes au modèle regex :\")\n",
    "dataframes_to_concat = []\n",
    "for cle_trouvee in cles_trouvees:\n",
    "    print(cle_trouvee)\n",
    "    dataframes_to_concat.append(dataframes[cle_trouvee])\n",
    "\n",
    "df_concatene = pd.concat(dataframes_to_concat, ignore_index=True)\n",
    "\n",
    "#In order to thing the same items, I attribute them a Ref number. If the items is the same, everything but price and date has to be the same\n",
    "colonnes_a_exclure = ['Date', 'Price']\n",
    "\n",
    "df_concatene['Ref'] = df_concatene.groupby([colonne for colonne in df_concatene.columns if colonne not in colonnes_a_exclure]).ngroup()\n",
    "df_concatene.sort_values(by=['Ref'], inplace=True)\n",
    "\n",
    "display(df_concatene)\n",
    "\n",
    "fig, axes = plt.subplots(nrows=(max(df_concatene['Ref']) // 2) + 1, ncols=2, figsize=(15, 15))\n",
    "fig.suptitle(my_final_request_chain.replace(\"[\", \"\").replace(\"]\", \"\").replace(\"''\", \" \").replace(\"'\", \"\"), fontsize=16)\n",
    "for i, ax in enumerate(axes.flat):\n",
    "    if i < max(df_concatene['Ref']):\n",
    "        df = df_concatene[df_concatene['Ref'] == i]\n",
    "        ax.plot(df['Date'], df['Price'], color='blue', linestyle='-')  \n",
    "        ax.scatter(x=df['Date'], y=df['Price'])\n",
    "        ax.set_xlabel('Date')\n",
    "        ax.set_ylabel('Price')\n",
    "        \n",
    "        first_row_values = df_concatene.drop(columns=['Date', 'Price']).iloc[0].values\n",
    "        string_first_row = ', '.join(map(str, first_row_values))\n",
    "        ax.set_title(string_first_row, fontsize = 11)\n",
    "\n",
    "plt.tight_layout()\n",
    "\n",
    "plt.show()"
   ]
  },
  {
   "cell_type": "code",
   "execution_count": null,
   "metadata": {},
   "outputs": [],
   "source": [
    "#Here, we want to concate the dataset of everydate : If I scrapped some lightings yesterday and today, I want to concat both (or more) datasets using the names given before and regex\n",
    "for request in requests_saved_cleaned: \n",
    "    modele_regex = r\"df_\\d{4}-\\d{2}-\\d{2}_mon_fichier\\.json_data\" + re.escape(request)\n",
    "\n",
    "    cles_trouvees = []\n",
    "\n",
    "    for cle in dataframes.keys():\n",
    "        \n",
    "        if re.match(modele_regex, cle):\n",
    "            cles_trouvees.append(cle)\n",
    "\n",
    "    print(\"Clés correspondantes au modèle regex :\")\n",
    "    dataframes_to_concat = []\n",
    "    for cle_trouvee in cles_trouvees:\n",
    "        print(cle_trouvee)\n",
    "        dataframes_to_concat.append(dataframes[cle_trouvee])\n",
    "\n",
    "    df_concatene = pd.concat(dataframes_to_concat, ignore_index=True)\n",
    "    \n",
    "    #In order to thing the same items, I attribute them a Ref number. If the items is the same, everything but price and date has to be the same\n",
    "    colonnes_a_exclure = ['Date', 'Price']\n",
    "\n",
    "    df_concatene['Ref'] = df_concatene.groupby([colonne for colonne in df_concatene.columns if colonne not in colonnes_a_exclure]).ngroup()\n",
    "    df_concatene.sort_values(by=['Ref'], inplace=True)\n",
    "    \n",
    "    display(df_concatene)\n",
    "\n",
    "    fig, axes = plt.subplots(nrows=(max(df_concatene['Ref']) // 2) + 1, ncols=2, figsize=(15, 15))\n",
    "    fig.suptitle(request.replace(\"[\", \"\").replace(\"]\", \"\").replace(\"''\", \" \").replace(\"'\", \"\"), fontsize=16)\n",
    "    for i, ax in enumerate(axes.flat):\n",
    "        if i < max(df_concatene['Ref']):\n",
    "            df = df_concatene[df_concatene['Ref'] == i]\n",
    "            ax.plot(df['Date'], df['Price'], color='blue', linestyle='-')  \n",
    "            ax.scatter(x=df['Date'], y=df['Price'])\n",
    "            ax.set_xlabel('Date')\n",
    "            ax.set_ylabel('Price')\n",
    "            \n",
    "            first_row_values = df_concatene.drop(columns=['Date', 'Price']).iloc[0].values\n",
    "            string_first_row = ', '.join(map(str, first_row_values))\n",
    "            ax.set_title(string_first_row, fontsize = 11)\n",
    "\n",
    "    plt.tight_layout()\n",
    "\n",
    "    plt.show()"
   ]
  }
 ],
 "metadata": {
  "kernelspec": {
   "display_name": "grainger_scrapping_env",
   "language": "python",
   "name": "python3"
  },
  "language_info": {
   "codemirror_mode": {
    "name": "ipython",
    "version": 3
   },
   "file_extension": ".py",
   "mimetype": "text/x-python",
   "name": "python",
   "nbconvert_exporter": "python",
   "pygments_lexer": "ipython3",
   "version": "3.12.0"
  }
 },
 "nbformat": 4,
 "nbformat_minor": 2
}
