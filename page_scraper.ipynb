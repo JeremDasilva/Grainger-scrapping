{
 "cells": [
  {
   "cell_type": "markdown",
   "metadata": {},
   "source": [
    "# Libraries and usefull functions"
   ]
  },
  {
   "cell_type": "code",
   "execution_count": 2,
   "metadata": {},
   "outputs": [],
   "source": [
    "#Importing libraries\n",
    "\n",
    "from selenium import webdriver\n",
    "from selenium.webdriver.common.by import By\n",
    "from selenium.webdriver.chrome.service import Service\n",
    "from selenium.webdriver.chrome.options import Options\n",
    "from selenium.webdriver.support.ui import WebDriverWait\n",
    "from selenium.webdriver.support import expected_conditions as EC\n",
    "from webdriver_manager.chrome import ChromeDriverManager\n",
    "import json\n"
   ]
  },
  {
   "cell_type": "code",
   "execution_count": null,
   "metadata": {},
   "outputs": [],
   "source": [
    "#Urls to scrap\n",
    "\n",
    "with open('urls_extractor/urls_extractor/spiders/urls.json', 'r') as file:\n",
    "    datas = json.load(file)\n",
    "    \n",
    "urls_to_scrap = []\n",
    "\n",
    "for data in datas :\n",
    "    for key, value in data.items():\n",
    "        urls_to_scrap.append(value)\n",
    "        \n",
    "urls_to_scrap"
   ]
  },
  {
   "cell_type": "code",
   "execution_count": 9,
   "metadata": {},
   "outputs": [
    {
     "name": "stdout",
     "output_type": "stream",
     "text": [
      "{'Angle Grinder Cup Brushes': {'Light-Cleaning Brushes for Carbon Steel': {'3/8\"-24 Arbor Hole': {'Brush Diameter': ['2-3/4 in', '3 in'], 'Bristle Diameter': ['0.02 in', '0.014 in'], 'Bristle Length': ['1 in', '1 in'], 'Brand': ['APPROVED VENDOR', 'WEILER'], 'Price': ['$7.54', '$30.21']}, '1/2\"-13 Arbor Hole': {'Brush Diameter': ['3 in'], 'Bristle Diameter': ['0.014 in'], 'Bristle Length': ['1 in'], 'Brand': ['WEILER'], 'Price': ['$27.90']}, '5/8\"-11 Arbor Hole': {'Brush Diameter': ['3 in', '3-1/2 in', '3-1/2 in', '2-3/4 in', '3 in', '3 in', '4 in', '5 in', '5 in', '6 in', '6 in', '4 in', '4 in', '5 in'], 'Bristle Diameter': ['0.014 in', '0.014 in', '0.014 in', '0.014 in', '0.014 in', '0.014 in', '0.014 in', '0.014 in', '0.02 in', '0.014 in', '0.02 in', '0.014 in', '0.02 in', '0.014 in'], 'Bristle Length': ['13/16 in', '7/8 in', '7/8 in', '1 in', '1 in', '1 in', '1-1/8 in', '1-1/4 in', '1-1/4 in', '1-1/4 in', '1-1/4 in', '1-3/8 in', '1-3/8 in', '1-3/8 in'], 'Brand': ['APPROVED VENDOR', 'APPROVED VENDOR', 'WEILER', 'APPROVED VENDOR', 'APPROVED VENDOR', 'WEILER', 'APPROVED VENDOR', 'WEILER', 'WEILER', 'WEILER', 'WEILER', 'WEILER', 'WEILER', 'APPROVED VENDOR'], 'Price': ['$5.40', '$7.21', '$33.88', '$5.63', '$5.94', '$27.87', '$8.39', '$65.71', '$60.38', '$79.41', '$62.40', '$44.59', '$44.95', '$11.13']}, 'M10 x 1.25 Arbor Hole': {'Brush Diameter': ['3 in'], 'Bristle Diameter': ['0.014 in'], 'Bristle Length': ['1 in'], 'Brand': ['WEILER'], 'Price': ['$26.40']}, 'M10 x 1.5 Arbor Hole': {'Brush Diameter': ['3 in'], 'Bristle Diameter': ['0.014 in'], 'Bristle Length': ['1 in'], 'Brand': ['WEILER'], 'Price': ['$25.97']}, 'X-Lock': {'Brush Diameter': ['3 in'], 'Bristle Diameter': ['0.012 in'], 'Bristle Length': ['1 in'], 'Brand': ['BOSCH'], 'Price': ['$29.39']}}, 'Heavy-Cleaning Brushes for Contoured Carbon Steel Surfaces': {'3/8\"-24 Arbor Hole': {'Brush Diameter': ['3 in', '2-3/4 in', '2-3/4 in'], 'Bristle Diameter': ['0.02 in', '0.02 in', '0.02 in'], 'Bristle Length': ['3/4 in', '7/8 in', '1 in'], 'Brand': ['APPROVED VENDOR', 'APPROVED VENDOR', 'WEILER'], 'Price': ['$8.40', '$7.56', '$28.13']}, '1/2\"-13 Arbor Hole': {'Brush Diameter': ['2-3/4 in', '2-3/4 in'], 'Bristle Diameter': ['0.014 in', '0.02 in'], 'Bristle Length': ['1 in', '1 in'], 'Brand': ['WEILER', 'WEILER'], 'Price': ['$41.09', '$28.13']}, '5/8\"-11 Arbor Hole': {'Brush Diameter': ['3 in', '2-3/4 in', '3 in', '3-1/2 in', '3-1/2 in', '2 in', '2-3/4 in', '2-3/4 in', '2-3/4 in', '4 in', '4 in', '5 in', '4 in', '6 in', '3-1/2 in', '3-1/2 in', '4 in', '4 in', '4 in', '4 in', '6 in', '3-1/2 in', '5 in', '6 in', '6 in', '6 in', '6 in', '6 in'], 'Bristle Diameter': ['0.02 in', '0.02 in', '0.02 in', '0.02 in', '0.023 in', '0.014 in', '0.014 in', '0.02 in', '0.02 in', '0.014 in', '0.02 in', '0.02 in', '0.02 in', '0.02 in', '0.014 in', '0.02 in', '0.014 in', '0.014 in', '0.023 in', '0.023 in', '0.014 in', '0.02 in', '0.023 in', '0.014 in', '0.02 in', '0.023 in', '0.023 in', '0.035 in'], 'Bristle Length': ['3/4 in', '7/8 in', '7/8 in', '7/8 in', '7/8 in', '1 in', '1 in', '1 in', '1 in', '1 in', '1 in', '1 in', '1-1/8 in', '1-1/8 in', '1-1/4 in', '1-1/4 in', '1-1/4 in', '1-1/4 in', '1-1/4 in', '1-1/4 in', '1-1/4 in', '1-3/8 in', '1-3/8 in', '1-3/8 in', '1-3/8 in', '1-3/8 in', '1-3/8 in', '1-3/8 in'], 'Brand': ['APPROVED VENDOR', 'APPROVED VENDOR', 'APPROVED VENDOR', 'APPROVED VENDOR', 'WEILER', 'APPROVED VENDOR', 'WEILER', 'APPROVED VENDOR', 'WEILER', 'APPROVED VENDOR', 'APPROVED VENDOR', 'APPROVED VENDOR', 'APPROVED VENDOR', 'APPROVED VENDOR', 'WEILER', 'WEILER', 'APPROVED VENDOR', 'WEILER', 'APPROVED VENDOR', 'WEILER', 'APPROVED VENDOR', 'APPROVED VENDOR', 'WEILER', 'WEILER', 'APPROVED VENDOR', 'APPROVED VENDOR', 'WEILER', 'WEILER'], 'Price': ['$8.40', '$7.56', '$8.51', '$10.06', '$39.27', '$7.98', '$30.48', '$7.56', '$31.53', '$13.08', '$11.70', '$13.97', '$9.26', '$22.47', '$40.10', '$40.42', '$13.08', '$51.63', '$13.95', '$48.79', '$22.47', '$10.19', '$73.10', '$95.45', '$23.39', '$21.96', '$88.67', '$83.37']}, 'M10 x 1.25 Arbor Hole': {'Brush Diameter': ['2-3/4 in', '2-3/4 in', '3 in'], 'Bristle Diameter': ['0.02 in', '0.02 in', '0.02 in'], 'Bristle Length': ['1 in', '7/8 in', '7/8 in'], 'Brand': ['WEILER', 'APPROVED VENDOR', 'APPROVED VENDOR'], 'Price': ['$27.29', '$7.56', '$8.17']}, 'X-Lock': {'Brush Diameter': ['3 in'], 'Bristle Diameter': ['0.002 in'], 'Bristle Length': ['1 in'], 'Brand': ['BOSCH'], 'Price': ['$28.38']}}, 'Wide-Face Heavy-Cleaning Brushes for Contoured Carbon Steel Surfaces': {'5/8\"-11 Arbor Hole': {'Brush Diameter': ['6 in'], 'Bristle Diameter': ['0.023 in'], 'Bristle Length': ['1-3/8 in'], 'Brand': ['WEILER'], 'Price': ['$132.31']}}, 'Light-Cleaning Brushes for Stainless Steel': {'5/8\"-11 Arbor Hole': {'Brush Diameter': ['3-1/2 in', '4 in', '4 in'], 'Bristle Diameter': ['0.014 in', '0.02 in', '0.02 in'], 'Bristle Length': ['7/8 in', '7/8 in', '1-3/8 in'], 'Brand': ['WEILER', 'APPROVED VENDOR', 'WEILER'], 'Price': ['$70.19', '$15.11', '$97.77']}, 'X-Lock': {'Brush Diameter': ['3 in'], 'Bristle Diameter': ['0.003 in'], 'Bristle Length': ['1 in'], 'Brand': ['BOSCH'], 'Price': ['$35.29']}}, 'Heavy-Cleaning Brushes for Contoured Stainless Steel Surfaces': {'5/8\"-11 Arbor Hole': {'Brush Diameter': ['2-3/4 in', '3 in', '3-1/2 in', '3-1/2 in', '2-3/4 in', '2-3/4 in', '4 in', '4 in', '4 in'], 'Bristle Diameter': ['0.014 in', '0.02 in', '0.02 in', '0.023 in', '0.02 in', '0.02 in', '0.02 in', '0.014 in', '0.023 in'], 'Bristle Length': ['7/8 in', '7/8 in', '7/8 in', '7/8 in', '1 in', '1 in', '1 in', '1-1/4 in', '1-1/4 in'], 'Brand': ['APPROVED VENDOR', 'APPROVED VENDOR', 'APPROVED VENDOR', 'WEILER', 'APPROVED VENDOR', 'WEILER', 'APPROVED VENDOR', 'WEILER', 'WEILER'], 'Price': ['$13.96', '$15.35', '$17.62', '$75.23', '$12.11', '$58.94', '$18.17', '$117.60', '$112.63']}, 'X-Lock': {'Brush Diameter': ['3 in'], 'Bristle Diameter': ['0.003 in'], 'Bristle Length': ['1 in'], 'Brand': ['BOSCH'], 'Price': ['$37.98']}}, 'Nonsparking Light-Cleaning Brushes for Soft Materials': {'5/8\"-11 Arbor Hole': {'Brush Diameter': ['2-3/4 in', '2-3/4 in', '2-3/4 in', '5 in'], 'Bristle Diameter': ['0.014 in', '0.014 in', '0.02 in', '0.014 in'], 'Bristle Length': ['3/4 in', '7/8 in', '7/8 in', '1-1/4 in'], 'Brand': ['APPROVED VENDOR', 'APPROVED VENDOR', 'APPROVED VENDOR', 'WEILER'], 'Price': ['$11.66', '$11.68', '$11.68', '$223.68']}}, 'Nonsparking Heavy-Cleaning Brushes for Soft Materials': {'5/8\"-11 Arbor Hole': {'Brush Diameter': ['2-3/4 in', '4 in'], 'Bristle Diameter': ['0.02 in', '0.02 in'], 'Bristle Length': ['3/4 in', '7/8 in'], 'Brand': ['APPROVED VENDOR', 'APPROVED VENDOR'], 'Price': ['$12.69', '$18.36']}}, 'Nonsparking Light-Cleaning Brushes for Hard Metals': {'5/8\"-11 Arbor Hole': {'Brush Diameter': ['3 in', '6 in', '4 in'], 'Bristle Diameter': ['0.02 in', '0.02 in', '0.02 in'], 'Bristle Length': ['7/8 in', '1-1/4 in', '1-3/8 in'], 'Brand': ['WEILER', 'WEILER', 'WEILER'], 'Price': ['$129.98', '$270.59', '$184.23']}}, 'Nonsparking Heavy-Cleaning Brushes for Hard Metals': {'5/8\"-11 Arbor Hole': {'Brush Diameter': ['3 in', '2-3/4 in', '4 in'], 'Bristle Diameter': ['0.02 in', '0.02 in', '0.02 in'], 'Bristle Length': ['3/4 in', '1 in', '1-1/4 in'], 'Brand': ['AMPCO', 'WEILER', 'WEILER'], 'Price': ['$148.06', '$67.96', '$88.01']}}, 'Deburring Brushes for All Metals': {'5/8\"-11 Arbor Hole': {'Brush Diameter': ['5 in', '6 in', '6 in', '3-1/2 in'], 'Bristle Diameter': ['0.04 in', '0.04 in', '0.04 in', '0.035 in'], 'Bristle Length': ['1-1/4 in', '1-1/4 in', '1-5/16 in', '1-1/2 in'], 'Grit': ['120', '80', '————', '————'], 'Brand': ['WEILER', 'WEILER', 'APPROVED VENDOR', 'WEILER'], 'Price': ['$146.84', '$137.21', '$50.16', '$80.27']}}}}\n"
     ]
    }
   ],
   "source": [
    "#Opening web browser\n",
    "options = Options()\n",
    "options.add_argument(\"--start-maximized\")\n",
    "driver = webdriver.Chrome(service=Service(ChromeDriverManager().install()), options=options)\n",
    "\n",
    "#Getting the the page we want to scrap\n",
    "driver.get('https://www.grainger.com/category/abrasives/abrasive-brushes/cup-brushes/angle-grinder-cup-brushes?categoryIndex=1')\n",
    "driver.implicitly_wait(1)\n",
    "\n",
    "#Extracting page main title\n",
    "title_page = driver.find_element(By.CLASS_NAME, 'KkejIK').text\n",
    "\n",
    "#Identification of each sections of the page. Creating an empty dictionary to save the data.\n",
    "sections = driver.find_elements(By.CLASS_NAME, 'MAcbb-')\n",
    "section_dict = {}\n",
    "\n",
    "#Looping throught each section to get the information we want which are the tables\n",
    "for section in sections :\n",
    "    #Extracting section title\n",
    "    title_section = section.find_element(By.CLASS_NAME, \"sC0Aof\").text\n",
    "    \n",
    "    sub_section_dict = {}\n",
    "    section_dict[title_section] = sub_section_dict\n",
    "    \n",
    "    #Looping throught ever sub-section to extract every table\n",
    "    sub_sections = section.find_elements(By.CLASS_NAME, \"T8G8vu\")\n",
    "    for sub_section in sub_sections:\n",
    "        title_sub_section = sub_section.find_element(By.CLASS_NAME, 'SQoGqa')\n",
    "        sub_section_dict[title_sub_section.text] = {}\n",
    "        \n",
    "        #To load the HTML, we need to 'activate' the JS by clicking on a button of the table\n",
    "        sub_section.find_element(By.CLASS_NAME, 'JxT10f').click()\n",
    "        \n",
    "        #Getting features name as they are different on each urls. Features comes in one long str thet needs to be split\n",
    "        features = sub_section.find_element(By.CLASS_NAME, 'JxT10f')\n",
    "        feature_list = (features.text).split('\\n')\n",
    "        \n",
    "        #Getting the table associated with the sub section\n",
    "        tables = sub_section.find_element(By.CLASS_NAME, 'cjpIYY')\n",
    "        feature_dict = {}\n",
    "\n",
    "        #Going through every row of every columns et creating the list of value assicaited to each feature\n",
    "        rows = tables.find_elements(By.TAG_NAME, 'tr')\n",
    "        for i in range(len(feature_list)):\n",
    "            feature_dict[feature_list[i]] = []\n",
    "            \n",
    "            for row in rows:\n",
    "                value = row.find_element(By.XPATH, f'./td[{i+1}]').text\n",
    "                feature_dict[feature_list[i]].append(value)\n",
    "                \n",
    "        sub_section_dict[title_sub_section.text] = feature_dict\n",
    "\n",
    "page_dict = {}\n",
    "page_dict[title_page] = section_dict \n",
    "\n",
    "print(page_dict)\n",
    "\n",
    "driver.quit()"
   ]
  },
  {
   "cell_type": "code",
   "execution_count": null,
   "metadata": {},
   "outputs": [],
   "source": [
    "#Saving to json\n",
    "\n",
    "json_string = json.dumps(page_dict)\n",
    "\n",
    "# Écrire la chaîne JSON dans un fichier\n",
    "with open('mon_fichier.json', 'w') as datas:\n",
    "    datas.write(json_string)"
   ]
  }
 ],
 "metadata": {
  "kernelspec": {
   "display_name": "base",
   "language": "python",
   "name": "python3"
  },
  "language_info": {
   "codemirror_mode": {
    "name": "ipython",
    "version": 3
   },
   "file_extension": ".py",
   "mimetype": "text/x-python",
   "name": "python",
   "nbconvert_exporter": "python",
   "pygments_lexer": "ipython3",
   "version": "3.12.0"
  }
 },
 "nbformat": 4,
 "nbformat_minor": 2
}
